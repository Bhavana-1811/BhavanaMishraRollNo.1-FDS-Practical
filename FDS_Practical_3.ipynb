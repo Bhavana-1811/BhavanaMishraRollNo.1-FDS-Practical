{
  "nbformat": 4,
  "nbformat_minor": 0,
  "metadata": {
    "colab": {
      "name": "FDS Practical 3.ipynb",
      "provenance": [],
      "collapsed_sections": []
    },
    "kernelspec": {
      "name": "python3",
      "display_name": "Python 3"
    },
    "language_info": {
      "name": "python"
    }
  },
  "cells": [
    {
      "cell_type": "markdown",
      "metadata": {
        "id": "lOMYlTBAHxdN"
      },
      "source": [
        "##Probability\n",
        "##### Definition: Probability is a measure of the likelihood of an event to occur. Many events cannot be predicted with total certainty. We can predict only the chance of an event to occur i.e. how likely they are to happen, using it. Probability can range in from 0 to 1 indicates a certain event. The probability of all the events in a sample Space adds up to 1.\n",
        "\n",
        "#####Formula for Probability\n",
        "\n",
        "#####The probability formula is defined as the possibility of an event to happen is equal to the ratio of the number of favourable outcomes and the total number of outcomes.\n",
        "\n",
        "#####Probability of event to happen P(E) = Number of favourable otcomes/Total Number of outcomes"
      ]
    },
    {
      "cell_type": "code",
      "metadata": {
        "colab": {
          "base_uri": "https://localhost:8080/"
        },
        "id": "0JCRwJODHrdC",
        "outputId": "ef9769be-12fa-4d74-f959-3cd2e701cafe"
      },
      "source": [
        "# Probability of getting on a die roll\n",
        "ns = 6 #n(S) = {1,2,3,4,5,6}\n",
        "na = 1   #n(A) = {3}\n",
        "pa = na/ns   # P(A)\n",
        "print(\"Probablity of getting 3:\", pa)"
      ],
      "execution_count": null,
      "outputs": [
        {
          "output_type": "stream",
          "name": "stdout",
          "text": [
            "Probablity of getting 3: 0.16666666666666666\n"
          ]
        }
      ]
    },
    {
      "cell_type": "code",
      "metadata": {
        "colab": {
          "base_uri": "https://localhost:8080/"
        },
        "id": "3DZ-jg7uOmLz",
        "outputId": "63f8ef56-fcd5-4e21-d08e-14466d923650"
      },
      "source": [
        "#Calcultate the probability of atleat getting one head when a coin is tossed thrice\n",
        "ns = 8  #n(s) = {HHH, HHT, HTT, HTH, THH, TTH, THT, TTT}\n",
        "na = 7 #n(a) = {HHH, HHT, HTT, HTH, THH, TTH, THT}\n",
        "pa = na/ns\n",
        "print(\"Probability of atleast one head is: \",pa)"
      ],
      "execution_count": null,
      "outputs": [
        {
          "output_type": "stream",
          "name": "stdout",
          "text": [
            "Probability of atleat one head is:  0.875\n"
          ]
        }
      ]
    },
    {
      "cell_type": "code",
      "metadata": {
        "colab": {
          "base_uri": "https://localhost:8080/"
        },
        "id": "zC9O0mZtPyG7",
        "outputId": "2d2a2d23-b11c-42d9-d52b-19023fb3bb81"
      },
      "source": [
        "# A glass of jar contains 5 red, 3 blue, 2 green jelly beans.\n",
        "#If a jelly bean is chosen, at random from the jar \n",
        "#what is the probability that it is not blue?\n",
        "ns = 10 #n(s) = {5red, 3blue, 2green}\n",
        "na = 7 #n(A) = {5red, 2green}\n",
        "pa = na/ns #P(A)\n",
        "print(\"Probability of getting not a blue jelly:\", pa)"
      ],
      "execution_count": null,
      "outputs": [
        {
          "output_type": "stream",
          "name": "stdout",
          "text": [
            "Probability of getting not a blue jelly: 0.7\n"
          ]
        }
      ]
    },
    {
      "cell_type": "markdown",
      "metadata": {
        "id": "wQxiclNfQ95p"
      },
      "source": [
        "### Dependent Independent Events\n",
        "\n",
        "##### If the occurence of any event is completely unaffected by the occurence ofany other event, such events are known as an independent event in probability and the events which are affected by other events are known as dependent events\n",
        "\n",
        "\n"
      ]
    },
    {
      "cell_type": "code",
      "metadata": {
        "colab": {
          "base_uri": "https://localhost:8080/"
        },
        "id": "MM50Y7eYPzED",
        "outputId": "cc3a271b-26e2-4668-915c-d63b3f0e64c6"
      },
      "source": [
        "# If the probability that A will be alive in 20 years is 0.7 and \n",
        "# the probability that B will be alive in 20 years is 0.5. \n",
        "# What is the probability that both will be alive in 29 years?\n",
        "\n",
        "#They are independent events, so\n",
        "P = 0.7 * 0.5\n",
        "print('Probability that they will be alive after 20 years is:',P)"
      ],
      "execution_count": null,
      "outputs": [
        {
          "output_type": "stream",
          "name": "stdout",
          "text": [
            "Probability that they will be alive after 20 years is: 0.35\n"
          ]
        }
      ]
    },
    {
      "cell_type": "code",
      "metadata": {
        "id": "NjUUpMhgR14Q"
      },
      "source": [
        "def event_probability(n,s):\n",
        "  return n/s"
      ],
      "execution_count": null,
      "outputs": []
    },
    {
      "cell_type": "code",
      "metadata": {
        "colab": {
          "base_uri": "https://localhost:8080/"
        },
        "id": "K5WLZRIWRdCA",
        "outputId": "6e277ac9-e8bc-4242-ed8f-b239bb07d0dc"
      },
      "source": [
        "# A fair die is tossed twice. \n",
        "# Find the probability of getting a 4 or 5 on the first toss \n",
        "# and 1,2 or 3 in the second toss.\n",
        "\n",
        "# It is a independent event\n",
        "\n",
        "pa = event_probability(2,6) # probability of getting 4 or 5\n",
        "pb = event_probability(3,6) #probability of getting 1 or 2 or 3\n",
        "P = pa * pb\n",
        "print(\"Probability of of getting a 4 or 5 on the first toss and 1,2,3 in the second toss:\",P)"
      ],
      "execution_count": null,
      "outputs": [
        {
          "output_type": "stream",
          "name": "stdout",
          "text": [
            "Probability of of getting a 4 or 5 on the first toss and 1,2,3 in the second toss: 0.16666666666666666\n"
          ]
        }
      ]
    },
    {
      "cell_type": "code",
      "metadata": {
        "colab": {
          "base_uri": "https://localhost:8080/"
        },
        "id": "FkDu8L1US-v7",
        "outputId": "13644df3-ed11-4bd2-b4bf-e14cea21bf3c"
      },
      "source": [
        "# A bag contains 5 white marbles, 3 black marbles and 2 green marbles. \n",
        "# In each draw, a marble is drawn from the bag and not replaced. \n",
        "# In three draws, fing the probability of obtaining white, black and \n",
        "# green in that order.\n",
        "\n",
        "pw = event_probability(5,10)\n",
        "pb = event_probability(3,9)\n",
        "pg = event_probability(2,8)\n",
        "\n",
        "P = pw*pb*pg\n",
        "print('The Probability of obtaining white, black and green in that order:', P)"
      ],
      "execution_count": null,
      "outputs": [
        {
          "output_type": "stream",
          "name": "stdout",
          "text": [
            "The Probability of obtaining white, black and green in that order: 0.041666666666666664\n"
          ]
        }
      ]
    },
    {
      "cell_type": "code",
      "metadata": {
        "colab": {
          "base_uri": "https://localhost:8080/"
        },
        "id": "Ms9aCzM4U44V",
        "outputId": "fb1f8eb9-2b2a-41e4-fee8-a09388a11f30"
      },
      "source": [
        "# calculate the probability of drawing a heart or a club \n",
        "# from the set of cards.\n",
        "\n",
        "#Sample Space\n",
        "cards = 52\n",
        "hearts = 13\n",
        "clubs = 13\n",
        "\n",
        "heart_or_club = event_probability(hearts,cards) + event_probability(clubs,cards)\n",
        "print('probability of drawing a heart or a club from the set of cards:', heart_or_club)\n"
      ],
      "execution_count": null,
      "outputs": [
        {
          "output_type": "stream",
          "name": "stdout",
          "text": [
            "probability of drawing a heart or a club from the set of cards: 0.5\n"
          ]
        }
      ]
    },
    {
      "cell_type": "code",
      "metadata": {
        "colab": {
          "base_uri": "https://localhost:8080/"
        },
        "id": "UGDS0htVVvkn",
        "outputId": "a1330da1-ca52-4d67-b53b-76068bd85a6a"
      },
      "source": [
        "# calculate the probability of drawing an ace, king or queen.\n",
        "\n",
        "#Sample Space\n",
        "cards = 52\n",
        "ace= 4\n",
        "king = 4\n",
        "queen = 4\n",
        "\n",
        "ace_king_queen = event_probability(ace,cards) + event_probability(king,cards)+ event_probability(queen,cards)\n",
        "print(\"probability of drawing an ace, king or queen:\",ace_king_queen)\n"
      ],
      "execution_count": null,
      "outputs": [
        {
          "output_type": "stream",
          "name": "stdout",
          "text": [
            "probability of drawing an ace, king or queen: 0.23076923076923078\n"
          ]
        }
      ]
    },
    {
      "cell_type": "code",
      "metadata": {
        "colab": {
          "base_uri": "https://localhost:8080/"
        },
        "id": "c9WWEhjTXJoB",
        "outputId": "d9567a0f-1f8a-4c1d-b812-fbf3d830973c"
      },
      "source": [
        "# Find the probability of drawing heart or ace\n",
        "\n",
        "#sample Space\n",
        "cards = 52\n",
        "ace = 4\n",
        "hearts = 13\n",
        "ace_of_hearts = 1\n",
        "\n",
        "heart_or_ace = event_probability(hearts,cards) + event_probability(ace,cards) - event_probability(ace_of_hearts,cards)\n",
        "print(\"Probability of drawing heart or ace:\",round(heart_or_ace, 1))\n"
      ],
      "execution_count": null,
      "outputs": [
        {
          "output_type": "stream",
          "name": "stdout",
          "text": [
            "Probability of drawing heart or ace: 0.3\n"
          ]
        }
      ]
    },
    {
      "cell_type": "markdown",
      "metadata": {
        "id": "BUGOEqZvYvhQ"
      },
      "source": [
        "## Complementary Events\n",
        "\n",
        "#####For any event E1 there exists another event E1` which represents the remaining elements of the sample space S.\n",
        "\n",
        "#####E1 = S- E1`\n",
        "\n",
        "#####If a dice is rolled then the sample space S is given as S = {1,2,3,4,5,6}.\n",
        "#####If a event E1 represents all the outcomes which is greater than 4, then E1` = {1,2,3,4}\n",
        "\n",
        "#####Similarly, the complement of E1, E2, E3......En wull be represented as E1',E2',.....En'."
      ]
    },
    {
      "cell_type": "code",
      "metadata": {
        "colab": {
          "base_uri": "https://localhost:8080/"
        },
        "id": "nwjhO_x6YtZL",
        "outputId": "3c0f6a54-bcf6-4baf-842b-d041e56926c5"
      },
      "source": [
        "#probability of not getting 5 when a fair die is rolled\n",
        "ns = 6 #n(S) = {1,2,3,4,5,6}\n",
        "na = 1   #n(A) = {5}\n",
        "pa = na/ns #P(A)\n",
        "print('probability of not getting 5 when a fair die is rolled:',1-pa)"
      ],
      "execution_count": null,
      "outputs": [
        {
          "output_type": "stream",
          "name": "stdout",
          "text": [
            "probability of not getting 5 when a fair die is rolled: 0.8333333333333334\n"
          ]
        }
      ]
    },
    {
      "cell_type": "markdown",
      "metadata": {
        "id": "MJ5v7h5OZaVA"
      },
      "source": [
        "## Conditional Probability\n",
        "\n",
        "##### The formula for conditional probability is\n",
        "\n",
        "#####P(A|B) = P(A or B)/P(B).\n",
        "\n",
        "#####The parts: P(A|B) = Probability of A occuring, given B occures P(A.B) = probability of both A and B occuring P(B) occuring\n",
        "\n",
        "#####Calculate the probability a student gets an A(80%+) in math, given they miss 10 or more classes.\n"
      ]
    },
    {
      "cell_type": "code",
      "metadata": {
        "colab": {
          "base_uri": "https://localhost:8080/",
          "height": 162
        },
        "id": "qdyd2Kx8ZNi_",
        "outputId": "6bd14bb5-9539-45b2-d9a0-edd196e07814"
      },
      "source": [
        "import pandas as pd\n",
        "import numpy as np\n",
        "df = pd.read_csv('student-mat.csv')\n",
        "df.head(3)"
      ],
      "execution_count": null,
      "outputs": [
        {
          "output_type": "execute_result",
          "data": {
            "text/html": [
              "<div>\n",
              "<style scoped>\n",
              "    .dataframe tbody tr th:only-of-type {\n",
              "        vertical-align: middle;\n",
              "    }\n",
              "\n",
              "    .dataframe tbody tr th {\n",
              "        vertical-align: top;\n",
              "    }\n",
              "\n",
              "    .dataframe thead th {\n",
              "        text-align: right;\n",
              "    }\n",
              "</style>\n",
              "<table border=\"1\" class=\"dataframe\">\n",
              "  <thead>\n",
              "    <tr style=\"text-align: right;\">\n",
              "      <th></th>\n",
              "      <th>school</th>\n",
              "      <th>sex</th>\n",
              "      <th>age</th>\n",
              "      <th>address</th>\n",
              "      <th>famsize</th>\n",
              "      <th>Pstatus</th>\n",
              "      <th>Medu</th>\n",
              "      <th>Fedu</th>\n",
              "      <th>Mjob</th>\n",
              "      <th>Fjob</th>\n",
              "      <th>reason</th>\n",
              "      <th>guardian</th>\n",
              "      <th>traveltime</th>\n",
              "      <th>studytime</th>\n",
              "      <th>failures</th>\n",
              "      <th>schoolsup</th>\n",
              "      <th>famsup</th>\n",
              "      <th>paid</th>\n",
              "      <th>activities</th>\n",
              "      <th>nursery</th>\n",
              "      <th>higher</th>\n",
              "      <th>internet</th>\n",
              "      <th>romantic</th>\n",
              "      <th>famrel</th>\n",
              "      <th>freetime</th>\n",
              "      <th>goout</th>\n",
              "      <th>Dalc</th>\n",
              "      <th>Walc</th>\n",
              "      <th>health</th>\n",
              "      <th>absences</th>\n",
              "      <th>G1</th>\n",
              "      <th>G2</th>\n",
              "      <th>G3</th>\n",
              "    </tr>\n",
              "  </thead>\n",
              "  <tbody>\n",
              "    <tr>\n",
              "      <th>0</th>\n",
              "      <td>GP</td>\n",
              "      <td>F</td>\n",
              "      <td>18</td>\n",
              "      <td>U</td>\n",
              "      <td>GT3</td>\n",
              "      <td>A</td>\n",
              "      <td>4</td>\n",
              "      <td>4</td>\n",
              "      <td>at_home</td>\n",
              "      <td>teacher</td>\n",
              "      <td>course</td>\n",
              "      <td>mother</td>\n",
              "      <td>2</td>\n",
              "      <td>2</td>\n",
              "      <td>0</td>\n",
              "      <td>yes</td>\n",
              "      <td>no</td>\n",
              "      <td>no</td>\n",
              "      <td>no</td>\n",
              "      <td>yes</td>\n",
              "      <td>yes</td>\n",
              "      <td>no</td>\n",
              "      <td>no</td>\n",
              "      <td>4</td>\n",
              "      <td>3</td>\n",
              "      <td>4</td>\n",
              "      <td>1</td>\n",
              "      <td>1</td>\n",
              "      <td>3</td>\n",
              "      <td>6</td>\n",
              "      <td>5</td>\n",
              "      <td>6</td>\n",
              "      <td>6</td>\n",
              "    </tr>\n",
              "    <tr>\n",
              "      <th>1</th>\n",
              "      <td>GP</td>\n",
              "      <td>F</td>\n",
              "      <td>17</td>\n",
              "      <td>U</td>\n",
              "      <td>GT3</td>\n",
              "      <td>T</td>\n",
              "      <td>1</td>\n",
              "      <td>1</td>\n",
              "      <td>at_home</td>\n",
              "      <td>other</td>\n",
              "      <td>course</td>\n",
              "      <td>father</td>\n",
              "      <td>1</td>\n",
              "      <td>2</td>\n",
              "      <td>0</td>\n",
              "      <td>no</td>\n",
              "      <td>yes</td>\n",
              "      <td>no</td>\n",
              "      <td>no</td>\n",
              "      <td>no</td>\n",
              "      <td>yes</td>\n",
              "      <td>yes</td>\n",
              "      <td>no</td>\n",
              "      <td>5</td>\n",
              "      <td>3</td>\n",
              "      <td>3</td>\n",
              "      <td>1</td>\n",
              "      <td>1</td>\n",
              "      <td>3</td>\n",
              "      <td>4</td>\n",
              "      <td>5</td>\n",
              "      <td>5</td>\n",
              "      <td>6</td>\n",
              "    </tr>\n",
              "    <tr>\n",
              "      <th>2</th>\n",
              "      <td>GP</td>\n",
              "      <td>F</td>\n",
              "      <td>15</td>\n",
              "      <td>U</td>\n",
              "      <td>LE3</td>\n",
              "      <td>T</td>\n",
              "      <td>1</td>\n",
              "      <td>1</td>\n",
              "      <td>at_home</td>\n",
              "      <td>other</td>\n",
              "      <td>other</td>\n",
              "      <td>mother</td>\n",
              "      <td>1</td>\n",
              "      <td>2</td>\n",
              "      <td>3</td>\n",
              "      <td>yes</td>\n",
              "      <td>no</td>\n",
              "      <td>yes</td>\n",
              "      <td>no</td>\n",
              "      <td>yes</td>\n",
              "      <td>yes</td>\n",
              "      <td>yes</td>\n",
              "      <td>no</td>\n",
              "      <td>4</td>\n",
              "      <td>3</td>\n",
              "      <td>2</td>\n",
              "      <td>2</td>\n",
              "      <td>3</td>\n",
              "      <td>3</td>\n",
              "      <td>10</td>\n",
              "      <td>7</td>\n",
              "      <td>8</td>\n",
              "      <td>10</td>\n",
              "    </tr>\n",
              "  </tbody>\n",
              "</table>\n",
              "</div>"
            ],
            "text/plain": [
              "  school sex  age address famsize Pstatus  ...  Walc  health absences G1 G2  G3\n",
              "0     GP   F   18       U     GT3       A  ...     1       3        6  5  6   6\n",
              "1     GP   F   17       U     GT3       T  ...     1       3        4  5  5   6\n",
              "2     GP   F   15       U     LE3       T  ...     3       3       10  7  8  10\n",
              "\n",
              "[3 rows x 33 columns]"
            ]
          },
          "metadata": {},
          "execution_count": 33
        }
      ]
    },
    {
      "cell_type": "code",
      "metadata": {
        "colab": {
          "base_uri": "https://localhost:8080/"
        },
        "id": "diLusbmUZRJh",
        "outputId": "70bc1ef3-5d64-46b3-db9c-0dc410da4c3a"
      },
      "source": [
        "len(df)"
      ],
      "execution_count": null,
      "outputs": [
        {
          "output_type": "execute_result",
          "data": {
            "text/plain": [
              "395"
            ]
          },
          "metadata": {},
          "execution_count": 34
        }
      ]
    },
    {
      "cell_type": "markdown",
      "metadata": {
        "id": "smVXh51Nb4uE"
      },
      "source": [
        "##### We are only concerned with abscence and G3(final grade from 0 to 20) columns. \n",
        "#####Let us create new boolena colunms based on these columns to make our lives easier. \n",
        "\n",
        "#####Add aboolean column called grade_A notifing if a student achieved 80% or higher as a final score. Original values are on 0 to 20 scale so we multiply by 5."
      ]
    },
    {
      "cell_type": "code",
      "metadata": {
        "id": "Z66eFtM5bsr3"
      },
      "source": [
        "df['grade_A'] = np.where(df['G3']*5 >= 80,1,0)"
      ],
      "execution_count": null,
      "outputs": []
    },
    {
      "cell_type": "markdown",
      "metadata": {
        "id": "pgKsgiIK9hde"
      },
      "source": [
        "#####Make another new boolean column called high_absenses with a value of 1 if a student missed 10 or more classes"
      ]
    },
    {
      "cell_type": "code",
      "metadata": {
        "id": "KqKIjXqlcfV9"
      },
      "source": [
        "df['high_absenses'] = np.where(df['absences'] >=10,1,0)"
      ],
      "execution_count": null,
      "outputs": []
    },
    {
      "cell_type": "code",
      "metadata": {
        "id": "yNLBBBq7czWk"
      },
      "source": [
        "# Add one more column to make buliding a pivot table easier\n",
        "df['count'] = 1"
      ],
      "execution_count": null,
      "outputs": []
    },
    {
      "cell_type": "code",
      "metadata": {
        "colab": {
          "base_uri": "https://localhost:8080/",
          "height": 203
        },
        "id": "3q3g4Db2dEh4",
        "outputId": "3438465c-0b9e-4af1-bad3-5d0034b0f948"
      },
      "source": [
        "# drop all other columns which we dont need.\n",
        "df = df[['grade_A','high_absenses','count']]\n",
        "df.head()"
      ],
      "execution_count": null,
      "outputs": [
        {
          "output_type": "execute_result",
          "data": {
            "text/html": [
              "<div>\n",
              "<style scoped>\n",
              "    .dataframe tbody tr th:only-of-type {\n",
              "        vertical-align: middle;\n",
              "    }\n",
              "\n",
              "    .dataframe tbody tr th {\n",
              "        vertical-align: top;\n",
              "    }\n",
              "\n",
              "    .dataframe thead th {\n",
              "        text-align: right;\n",
              "    }\n",
              "</style>\n",
              "<table border=\"1\" class=\"dataframe\">\n",
              "  <thead>\n",
              "    <tr style=\"text-align: right;\">\n",
              "      <th></th>\n",
              "      <th>grade_A</th>\n",
              "      <th>high_absenses</th>\n",
              "      <th>count</th>\n",
              "    </tr>\n",
              "  </thead>\n",
              "  <tbody>\n",
              "    <tr>\n",
              "      <th>0</th>\n",
              "      <td>0</td>\n",
              "      <td>0</td>\n",
              "      <td>1</td>\n",
              "    </tr>\n",
              "    <tr>\n",
              "      <th>1</th>\n",
              "      <td>0</td>\n",
              "      <td>0</td>\n",
              "      <td>1</td>\n",
              "    </tr>\n",
              "    <tr>\n",
              "      <th>2</th>\n",
              "      <td>0</td>\n",
              "      <td>1</td>\n",
              "      <td>1</td>\n",
              "    </tr>\n",
              "    <tr>\n",
              "      <th>3</th>\n",
              "      <td>0</td>\n",
              "      <td>0</td>\n",
              "      <td>1</td>\n",
              "    </tr>\n",
              "    <tr>\n",
              "      <th>4</th>\n",
              "      <td>0</td>\n",
              "      <td>0</td>\n",
              "      <td>1</td>\n",
              "    </tr>\n",
              "  </tbody>\n",
              "</table>\n",
              "</div>"
            ],
            "text/plain": [
              "   grade_A  high_absenses  count\n",
              "0        0              0      1\n",
              "1        0              0      1\n",
              "2        0              1      1\n",
              "3        0              0      1\n",
              "4        0              0      1"
            ]
          },
          "metadata": {},
          "execution_count": 44
        }
      ]
    },
    {
      "cell_type": "code",
      "metadata": {
        "colab": {
          "base_uri": "https://localhost:8080/"
        },
        "id": "lFevqEeDdlcj",
        "outputId": "fd885222-2c13-4a62-e088-cd29ea48b248"
      },
      "source": [
        "final = pd.pivot_table(\n",
        "    df,\n",
        "    values='count',\n",
        "    index=['grade_A'],\n",
        "    columns = ['high_absenses'],\n",
        "    aggfunc = np.size,\n",
        "    fill_value=0\n",
        "    )\n",
        "print(final)"
      ],
      "execution_count": null,
      "outputs": [
        {
          "output_type": "stream",
          "name": "stdout",
          "text": [
            "high_absenses    0   1\n",
            "grade_A               \n",
            "0              277  78\n",
            "1               35   5\n"
          ]
        }
      ]
    },
    {
      "cell_type": "code",
      "metadata": {
        "colab": {
          "base_uri": "https://localhost:8080/"
        },
        "id": "h5CRLO17eju1",
        "outputId": "0b44c6fe-641a-4dcb-baaa-835593503710"
      },
      "source": [
        "# P(A) is the probability of grade if 80% or greater\n",
        "\n",
        "PA = (35+5)/(35+5+277+78)\n",
        "PA"
      ],
      "execution_count": null,
      "outputs": [
        {
          "output_type": "execute_result",
          "data": {
            "text/plain": [
              "0.10126582278481013"
            ]
          },
          "metadata": {},
          "execution_count": 48
        }
      ]
    },
    {
      "cell_type": "code",
      "metadata": {
        "colab": {
          "base_uri": "https://localhost:8080/"
        },
        "id": "OQix46CpgXew",
        "outputId": "9899b14f-d493-46c2-f0df-f35926a00793"
      },
      "source": [
        "# P(B) is the probability of missing 10 or more classes.\n",
        "PB = (78+5) / (35+5+277+78)\n",
        "PB"
      ],
      "execution_count": null,
      "outputs": [
        {
          "output_type": "execute_result",
          "data": {
            "text/plain": [
              "0.21012658227848102"
            ]
          },
          "metadata": {},
          "execution_count": 49
        }
      ]
    },
    {
      "cell_type": "code",
      "metadata": {
        "colab": {
          "base_uri": "https://localhost:8080/"
        },
        "id": "gcXlQ7KQgmpL",
        "outputId": "8af2c57f-4433-413e-ff70-c4f629df8e66"
      },
      "source": [
        "PA_or_PB = 5/(35+5+277+78)\n",
        "PA_or_PB    #P(A or B)\n",
        "\n",
        "#As per the formula, P(A|B) = P(A or B)/P(B), put it together\n",
        "ab = PA_or_PB / PB \n",
        "ab  # P(A|B)"
      ],
      "execution_count": null,
      "outputs": [
        {
          "output_type": "execute_result",
          "data": {
            "text/plain": [
              "0.060240963855421686"
            ]
          },
          "metadata": {},
          "execution_count": 54
        }
      ]
    },
    {
      "cell_type": "markdown",
      "metadata": {
        "id": "mzkQBQ6K57QF"
      },
      "source": [
        "######The probability of getting atleast an 80% final grade, given missing 10 or more classes is 6%.\n",
        "\n",
        "#####**Conclusion:** While the learning from our specific example is clear - go to class if you want good grades"
      ]
    }
  ]
}